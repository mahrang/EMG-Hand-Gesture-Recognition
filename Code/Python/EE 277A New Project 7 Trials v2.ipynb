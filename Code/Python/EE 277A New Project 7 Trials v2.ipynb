{
 "cells": [
  {
   "cell_type": "markdown",
   "metadata": {},
   "source": [
    "# Using 7 training trials & 10 test trials"
   ]
  },
  {
   "cell_type": "code",
   "execution_count": 1,
   "metadata": {},
   "outputs": [],
   "source": [
    "import pandas as pd\n",
    "import numpy as np\n",
    "from sklearn.model_selection import GridSearchCV\n",
    "from sklearn.metrics import classification_report,confusion_matrix,accuracy_score,mean_squared_error,precision_recall_fscore_support as score\n",
    "from sklearn.ensemble import RandomForestClassifier\n",
    "from sklearn.preprocessing import StandardScaler\n",
    "from sklearn.decomposition import PCA\n",
    "from matplotlib import pyplot as plt\n",
    "import warnings\n",
    "%matplotlib inline"
   ]
  },
  {
   "cell_type": "markdown",
   "metadata": {},
   "source": [
    "# Reading the Dataset."
   ]
  },
  {
   "cell_type": "code",
   "execution_count": 2,
   "metadata": {},
   "outputs": [],
   "source": [
    "df_1 = pd.read_excel('Subject 1 Session 1 Train Trial 1.xlsx', header=None)\n",
    "df_2 = pd.read_excel('Subject 1 Session 1 Train Trial 2.xlsx', header=None)\n",
    "df_3 = pd.read_excel('Subject 1 Session 1 Train Trial 3.xlsx', header=None)\n",
    "df_4 = pd.read_excel('Subject 1 Session 1 Train Trial 4.xlsx', header=None)\n",
    "df_5 = pd.read_excel('Subject 1 Session 1 Train Trial 5.xlsx', header=None)\n",
    "df_6 = pd.read_excel('Subject 1 Session 1 Train Trial 6.xlsx', header=None)\n",
    "df_7 = pd.read_excel('Subject 1 Session 1 Train Trial 7.xlsx', header=None)\n",
    "df_11 = pd.read_excel('Subject 1 Session 1 Test Trial 1.xlsx', header=None)\n",
    "df_12 = pd.read_excel('Subject 1 Session 1 Test Trial 2.xlsx', header=None)\n",
    "df_13 = pd.read_excel('Subject 1 Session 1 Test Trial 3.xlsx', header=None)\n",
    "df_14 = pd.read_excel('Subject 1 Session 1 Test Trial 4.xlsx', header=None)\n",
    "df_15 = pd.read_excel('Subject 1 Session 1 Test Trial 5.xlsx', header=None)\n",
    "df_16 = pd.read_excel('Subject 1 Session 1 Test Trial 6.xlsx', header=None)\n",
    "df_17 = pd.read_excel('Subject 1 Session 1 Test Trial 7.xlsx', header=None)\n",
    "df_18 = pd.read_excel('Subject 1 Session 1 Test Trial 8.xlsx', header=None)\n",
    "df_19 = pd.read_excel('Subject 1 Session 1 Test Trial 9.xlsx', header=None)\n",
    "df_20 = pd.read_excel('Subject 1 Session 1 Test Trial 10.xlsx', header=None)"
   ]
  },
  {
   "cell_type": "markdown",
   "metadata": {},
   "source": [
    "# Cleaning the Dataset."
   ]
  },
  {
   "cell_type": "code",
   "execution_count": 3,
   "metadata": {},
   "outputs": [],
   "source": [
    "df1 = df_1[(df_1.iloc[:,64])==-1].index # df1 contains all the rows (index) that contain a -1 in the 65th column (column[64])\n",
    "df_1.drop(df1, inplace=True) # drops df1 from df_1\n",
    "batch1_clean = df_1\n",
    "\n",
    "df2 = df_2[(df_2.iloc[:,64])==-1].index # df2 contains all the rows (index) that contain a -1 in the 65th column (column[64])\n",
    "df_2.drop(df2, inplace=True) # drops df2 from df_2\n",
    "batch2_clean = df_2\n",
    "\n",
    "df3 = df_3[(df_3.iloc[:,64])==-1].index # df3 contains all the rows (index) that contain a -1 in the 65th column (column[64])\n",
    "df_3.drop(df3, inplace=True) # drops df3 from df_3\n",
    "batch3_clean = df_3\n",
    "\n",
    "df4 = df_4[(df_4.iloc[:,64])==-1].index # df4 contains all the rows (index) that contain a -1 in the 65th column (column[64])\n",
    "df_4.drop(df4, inplace=True) # drops df4 from df_4\n",
    "batch4_clean = df_4\n",
    "\n",
    "df5 = df_5[(df_5.iloc[:,64])==-1].index # df5 contains all the rows (index) that contain a -1 in the 65th column (column[64])\n",
    "df_5.drop(df5, inplace=True) # drops df5 from df_5\n",
    "batch5_clean = df_5\n",
    "\n",
    "df6 = df_6[(df_6.iloc[:,64])==-1].index # df6 contains all the rows (index) that contain a -1 in the 65th column (column[64])\n",
    "df_6.drop(df6, inplace=True) # drops df6 from df_6\n",
    "batch6_clean = df_6\n",
    "\n",
    "df7 = df_7[(df_7.iloc[:,64])==-1].index # df7 contains all the rows (index) that contain a -1 in the 65th column (column[64])\n",
    "df_7.drop(df7, inplace=True) # drops df7 from df_7\n",
    "batch7_clean = df_7\n",
    "\n",
    "df11 = df_11[(df_11.iloc[:,64])==-1].index # df11 contains all the rows (index) that contain a -1 in the 65th column\n",
    "df_11.drop(df11, inplace=True) # drops df11 from df_11\n",
    "batch11_clean = df_11\n",
    "\n",
    "df12 = df_12[(df_12.iloc[:,64])==-1].index # df12 contains all the rows (index) that contain a -1 in the 65th column\n",
    "df_12.drop(df12, inplace=True) # drops df12 from df_12\n",
    "batch12_clean = df_12\n",
    "\n",
    "df13 = df_13[(df_13.iloc[:,64])==-1].index # df13 contains all the rows (index) that contain a -1 in the 65th column\n",
    "df_13.drop(df13, inplace=True) # drops df13 from df_13\n",
    "batch13_clean = df_13\n",
    "\n",
    "df14 = df_14[(df_14.iloc[:,64])==-1].index # df14 contains all the rows (index) that contain a -1 in the 65th column\n",
    "df_14.drop(df14, inplace=True) # drops df14 from df_14\n",
    "batch14_clean = df_14\n",
    "\n",
    "df15 = df_15[(df_15.iloc[:,64])==-1].index # df15 contains all the rows (index) that contain a -1 in the 65th column\n",
    "df_15.drop(df15, inplace=True) # drops df15 from df_15\n",
    "batch15_clean = df_15\n",
    "\n",
    "df16 = df_16[(df_16.iloc[:,64])==-1].index # df16 contains all the rows (index) that contain a -1 in the 65th column\n",
    "df_16.drop(df16, inplace=True) # drops df16 from df_16\n",
    "batch16_clean = df_16\n",
    "\n",
    "df17 = df_17[(df_17.iloc[:,64])==-1].index # df17 contains all the rows (index) that contain a -1 in the 65th column\n",
    "df_17.drop(df17, inplace=True) # drops df17 from df_17\n",
    "batch17_clean = df_17\n",
    "\n",
    "df18 = df_18[(df_18.iloc[:,64])==-1].index # df6 contains all the rows (index) that contain a -1 in the 65th column\n",
    "df_18.drop(df18, inplace=True) # drops df18 from df_18\n",
    "batch18_clean = df_18\n",
    "\n",
    "df19 = df_19[(df_19.iloc[:,64])==-1].index # df19 contains all the rows (index) that contain a -1 in the 65th column\n",
    "df_19.drop(df19, inplace=True) # drops df19 from df_19\n",
    "batch19_clean = df_19\n",
    "\n",
    "df20 = df_20[(df_20.iloc[:,64])==-1].index # df20 contains all the rows (index) that contain a -1 in the 65th column\n",
    "df_20.drop(df20, inplace=True) # drops df20 from df_20\n",
    "batch20_clean = df_20"
   ]
  },
  {
   "cell_type": "markdown",
   "metadata": {},
   "source": [
    "# Splitting the Dataset."
   ]
  },
  {
   "cell_type": "code",
   "execution_count": 4,
   "metadata": {},
   "outputs": [],
   "source": [
    "First_Model_Train = [batch1_clean, batch2_clean, batch3_clean, batch4_clean, batch5_clean, batch6_clean, batch7_clean]\n",
    "Train = pd.concat(First_Model_Train)\n",
    "\n",
    "First_Model_Test = [batch11_clean, batch12_clean, batch13_clean, batch14_clean, batch15_clean,\n",
    "                     batch16_clean, batch17_clean, batch18_clean, batch19_clean, batch20_clean]\n",
    "Test = pd.concat(First_Model_Test)"
   ]
  },
  {
   "cell_type": "code",
   "execution_count": 5,
   "metadata": {},
   "outputs": [],
   "source": [
    "X_train = Train[Train.columns[:64]]\n",
    "y_train = Train[Train.columns[64:]]\n",
    "\n",
    "X_test = Test[Test.columns[:64]]\n",
    "y_test = Test[Test.columns[64:]]"
   ]
  },
  {
   "cell_type": "markdown",
   "metadata": {},
   "source": [
    "# Standardizing all the Features."
   ]
  },
  {
   "cell_type": "code",
   "execution_count": 6,
   "metadata": {},
   "outputs": [],
   "source": [
    "sc = StandardScaler()\n",
    "X_train = sc.fit_transform(X_train)\n",
    "X_test = sc.transform(X_test)"
   ]
  },
  {
   "cell_type": "markdown",
   "metadata": {},
   "source": [
    "# Random Forest."
   ]
  },
  {
   "cell_type": "markdown",
   "metadata": {},
   "source": [
    "# Using GridsearchCV to get the best Hyperparameters for Random Forest."
   ]
  },
  {
   "cell_type": "code",
   "execution_count": 9,
   "metadata": {},
   "outputs": [
    {
     "name": "stdout",
     "output_type": "stream",
     "text": [
      "Best Training Accuracy is 98.6033% for {'bootstrap': True, 'criterion': 'entropy', 'n_estimators': 25} as hyperparameter.\n"
     ]
    }
   ],
   "source": [
    "#takes about 5 minutes.\n",
    "warnings.simplefilter('ignore') #hides the warnings.\n",
    "\n",
    "RF = RandomForestClassifier(random_state = 42) # Random Forest classifier\n",
    "\n",
    "RF_parameters = {'criterion': ['entropy','gini'],  # searching for the best parameters using\n",
    "                 'n_estimators': [20,25,30,35,40], # gridsearchCV with 5 fold cross validation.\n",
    "                 'bootstrap': [True, False]}\n",
    "\n",
    "gcv_RF = GridSearchCV(estimator = RF,\n",
    "                       param_grid = RF_parameters,\n",
    "                       scoring = 'accuracy',\n",
    "                       cv = 5,               # k-fold\n",
    "                       n_jobs = -1,          # using all processors\n",
    "                       return_train_score=True)   \n",
    "\n",
    "gcv_RF = gcv_RF.fit(X_train, y_train)\n",
    "\n",
    "gcv_RF_results = gcv_RF.cv_results_ # results from all the models.\n",
    "\n",
    "gcv_RF_Train_Accuracy = (gcv_RF.best_score_)*100 # Accuracy of the best model.\n",
    "gcv_RF_Train_Accuracy = round(gcv_RF_Train_Accuracy,4)\n",
    "\n",
    "gcv_RF_parameters = gcv_RF.best_params_ # Hyperparameters associated to the best model\n",
    "\n",
    "print(f'Best Training Accuracy is {gcv_RF_Train_Accuracy}% for {gcv_RF_parameters} as hyperparameter.')"
   ]
  },
  {
   "cell_type": "code",
   "execution_count": 11,
   "metadata": {},
   "outputs": [
    {
     "data": {
      "text/plain": [
       "{'bootstrap': True, 'criterion': 'entropy', 'n_estimators': 25}"
      ]
     },
     "execution_count": 11,
     "metadata": {},
     "output_type": "execute_result"
    }
   ],
   "source": [
    "gcv_RF_parameters"
   ]
  },
  {
   "cell_type": "markdown",
   "metadata": {},
   "source": [
    "# Trying models with different numbers of Trees with best Hyperparameters of Random Forest."
   ]
  },
  {
   "cell_type": "code",
   "execution_count": 12,
   "metadata": {},
   "outputs": [
    {
     "name": "stdout",
     "output_type": "stream",
     "text": [
      "Test Accuracy for 5 trees is 94.3968%.\n",
      "Test Accuracy for 10 trees is 95.5919%.\n",
      "Test Accuracy for 15 trees is 96.052%.\n",
      "Test Accuracy for 20 trees is 96.4515%.\n",
      "Test Accuracy for 25 trees is 95.5172%.\n",
      "Test Accuracy for 30 trees is 96.0373%.\n",
      "Test Accuracy for 35 trees is 95.99%.\n",
      "Test Accuracy for 40 trees is 95.9206%.\n",
      "Test Accuracy for 45 trees is 95.6632%.\n",
      "Test Accuracy for 50 trees is 95.6405%.\n",
      "Test Accuracy for 55 trees is 95.7986%.\n",
      "Test Accuracy for 60 trees is 95.8833%.\n",
      "Test Accuracy for 65 trees is 95.6105%.\n",
      "Test Accuracy for 70 trees is 95.9306%.\n",
      "Test Accuracy for 75 trees is 95.8359%.\n",
      "Test Accuracy for 80 trees is 95.8986%.\n",
      "Test Accuracy for 85 trees is 96.1014%.\n",
      "Test Accuracy for 90 trees is 96.0413%.\n",
      "Test Accuracy for 95 trees is 96.0967%.\n",
      "Test Accuracy for 100 trees is 96.086%.\n",
      "Lowest Error is 3.5485% for 20 Trees\n"
     ]
    }
   ],
   "source": [
    "#takes about 3 minutes.\n",
    "warnings.simplefilter('ignore') #hides the warning\n",
    "\n",
    "RF_n_est_Error_array = []\n",
    "n_estimators = [5,10,15,20,25,30,35,40,45,50,55,60,65,70,75,80,85,90,95,100] # numbers of Trees\n",
    "\n",
    "for n in n_estimators:\n",
    "    # Random Forest with n Trees\n",
    "    RF = RandomForestClassifier(random_state = 42, n_estimators = n,\n",
    "                                criterion = gcv_RF_parameters['criterion'], bootstrap = gcv_RF_parameters['bootstrap'])\n",
    "    \n",
    "    RF.fit(X_train, y_train)\n",
    "    \n",
    "    RF_y_pred = RF.predict(X_test)\n",
    "    \n",
    "    # Test Accuracy for n Trees\n",
    "    RF_Test_Accuracy = (accuracy_score(y_test, RF_y_pred))*100\n",
    "    RF_Test_Accuracy = round(RF_Test_Accuracy,4)\n",
    "    \n",
    "    # Test Error for n Trees\n",
    "    RF_Test_Error = 100 - RF_Test_Accuracy\n",
    "    RF_Test_Error = round(RF_Test_Error,4)\n",
    "    RF_n_est_Error_array.append(RF_Test_Error)\n",
    "    \n",
    "    # printing Test Accuracy for n Trees\n",
    "    print(f'Test Accuracy for {n} trees is {RF_Test_Accuracy}%.')\n",
    "\n",
    "# getting the index of the lowest error from the error array\n",
    "idx_3 = RF_n_est_Error_array.index(min(RF_n_est_Error_array))\n",
    "print (f'Lowest Error is {min(RF_n_est_Error_array)}% for {n_estimators[idx_3]} Trees')"
   ]
  },
  {
   "cell_type": "markdown",
   "metadata": {},
   "source": [
    "# Plotting Numbers of Trees vr. Test Error for Random Forest."
   ]
  },
  {
   "cell_type": "code",
   "execution_count": 13,
   "metadata": {},
   "outputs": [
    {
     "data": {
      "image/png": "[encoded data removed]",
      "text/plain": [
       "<Figure size 432x288 with 1 Axes>"
      ]
     },
     "metadata": {
      "needs_background": "light"
     },
     "output_type": "display_data"
    }
   ],
   "source": [
    "plt.plot(n_estimators, RF_n_est_Error_array, color =\"k\")\n",
    "\n",
    "plt.title('Number of Trees vr Test Error for Random Forest')\n",
    "plt.xlabel('Number of Trees')\n",
    "plt.ylabel('Test Error')\n",
    "plt.show()"
   ]
  },
  {
   "cell_type": "markdown",
   "metadata": {},
   "source": [
    "# Taking Best Hyperparameters and best Numbers of Trees for Random Forest."
   ]
  },
  {
   "cell_type": "code",
   "execution_count": 14,
   "metadata": {},
   "outputs": [
    {
     "name": "stdout",
     "output_type": "stream",
     "text": [
      "Test Accuracy for the best model from GridsearchCV and with best numbers of trees is 96.4515%..\n"
     ]
    }
   ],
   "source": [
    "# training again with the best number of Trees\n",
    "RF_Best_n = RandomForestClassifier(random_state = 42, n_estimators = n_estimators[idx_3],\n",
    "                                   criterion = gcv_RF_parameters['criterion'], bootstrap = gcv_RF_parameters['bootstrap'])\n",
    "RF_Best_n.fit(X_train, y_train)\n",
    "\n",
    "RF_Best_n_y_pred = RF_Best_n.predict(X_test)\n",
    "\n",
    "# Test Accuracy for best numbers of Trees\n",
    "RF_Best_n_Test_Accuracy = (accuracy_score(y_test, RF_Best_n_y_pred))*100\n",
    "RF_Best_n_Test_Accuracy = round(RF_Best_n_Test_Accuracy,4)\n",
    "\n",
    "# Test Error for best numbers of Trees\n",
    "RF_Best_n_Test_Error = 100 - RF_Best_n_Test_Accuracy\n",
    "RF_Best_n_Test_Error = round(RF_Best_n_Test_Error,4)\n",
    "\n",
    "print (f'Test Accuracy for the best model from GridsearchCV and with best numbers of trees is {RF_Best_n_Test_Accuracy}%..')"
   ]
  },
  {
   "cell_type": "markdown",
   "metadata": {},
   "source": [
    "# Classification Report"
   ]
  },
  {
   "cell_type": "code",
   "execution_count": 15,
   "metadata": {},
   "outputs": [
    {
     "name": "stdout",
     "output_type": "stream",
     "text": [
      "              precision    recall  f1-score   support\n",
      "\n",
      "           0       1.00      0.97      0.99     29990\n",
      "           1       0.98      0.94      0.96     29990\n",
      "           2       0.97      0.96      0.97     29990\n",
      "           3       0.93      0.98      0.95     29990\n",
      "           4       0.94      0.98      0.96     29990\n",
      "\n",
      "   micro avg       0.96      0.96      0.96    149950\n",
      "   macro avg       0.97      0.96      0.96    149950\n",
      "weighted avg       0.97      0.96      0.96    149950\n",
      "\n"
     ]
    }
   ],
   "source": [
    "print(classification_report(y_test, RF_Best_n_y_pred, labels=[0,1, 2, 3, 4]))"
   ]
  },
  {
   "cell_type": "markdown",
   "metadata": {},
   "source": [
    "# Presision, Recall, Accuracy, Confusion Matrix and ROC Curve for Random Forest."
   ]
  },
  {
   "cell_type": "code",
   "execution_count": 16,
   "metadata": {},
   "outputs": [
    {
     "name": "stdout",
     "output_type": "stream",
     "text": [
      "Precision : 96.54% / Recall : 96.45% / Accuracy : 96.4515%\n"
     ]
    }
   ],
   "source": [
    "precision,recall,fscore,support = score(y_test, RF_Best_n_y_pred, average = 'weighted')\n",
    "print(f'Precision : {(round(precision,4))*100}% / Recall : {(round(recall,4))*100}% / Accuracy : {RF_Best_n_Test_Accuracy}%')"
   ]
  },
  {
   "cell_type": "code",
   "execution_count": 17,
   "metadata": {},
   "outputs": [
    {
     "data": {
      "text/plain": [
       "array([[29161,     0,   276,   117,   436],\n",
       "       [   19, 28082,     0,  1889,     0],\n",
       "       [    0,    19, 28802,     0,  1169],\n",
       "       [    0,   497,     0, 29299,   194],\n",
       "       [   19,     0,   472,   214, 29285]], dtype=int64)"
      ]
     },
     "execution_count": 17,
     "metadata": {},
     "output_type": "execute_result"
    }
   ],
   "source": [
    "from sklearn.metrics import confusion_matrix\n",
    "confusion_matrix(y_test, RF_Best_n_y_pred)"
   ]
  },
  {
   "cell_type": "markdown",
   "metadata": {},
   "source": [
    "# Applying PCA to the Best model from GridSearchCV of Random Forest."
   ]
  },
  {
   "cell_type": "code",
   "execution_count": 18,
   "metadata": {},
   "outputs": [
    {
     "name": "stdout",
     "output_type": "stream",
     "text": [
      "Test Accuracy of the Model with 1 Principal Components is 50.6882%.\n",
      "Test Accuracy of the Model with 4 Principal Components is 92.8503%.\n",
      "Test Accuracy of the Model with 8 Principal Components is 92.933%.\n",
      "Test Accuracy of the Model with 12 Principal Components is 95.3158%.\n",
      "Test Accuracy of the Model with 16 Principal Components is 93.4785%.\n",
      "Test Accuracy of the Model with 20 Principal Components is 94.5095%.\n",
      "Test Accuracy of the Model with 24 Principal Components is 93.1264%.\n",
      "Test Accuracy of the Model with 28 Principal Components is 94.9496%.\n",
      "Test Accuracy of the Model with 32 Principal Components is 95.8993%.\n",
      "Test Accuracy of the Model with 36 Principal Components is 94.1534%.\n",
      "Test Accuracy of the Model with 40 Principal Components is 92.8503%.\n",
      "Test Accuracy of the Model with 44 Principal Components is 95.8026%.\n",
      "Test Accuracy of the Model with 48 Principal Components is 94.0233%.\n",
      "Test Accuracy of the Model with 52 Principal Components is 95.5172%.\n",
      "Test Accuracy of the Model with 56 Principal Components is 95.5385%.\n",
      "Test Accuracy of the Model with 60 Principal Components is 93.5519%.\n",
      "Test Accuracy of the Model with 64 Principal Components is 94.3881%.\n",
      "Lowest Error is 4.1007 % for 32 Principal Components.\n"
     ]
    }
   ],
   "source": [
    "#time for this cell depends on the numbers of trees we get from above \n",
    "#took about 3 minutes when number of trees was 65\n",
    "\n",
    "warnings.simplefilter('ignore') # hides the warnings\n",
    "\n",
    "#n_components = [1,4,8,12,16,20,24,28,32,36,40,44,48,52,56,60,64,68,72,76,80,84,88,92,96,100] # number of Principal Components\n",
    "n_components = [1,4,8,12,16,20,24,28,32,36,40,44,48,52,56,60,64]\n",
    "RF_PCA_Error_Array = []\n",
    "\n",
    "for n in n_components:\n",
    "    # PCA with n principal components\n",
    "    pca = PCA(n_components = n)\n",
    "    \n",
    "    # n principal components\n",
    "    X_train_PCA_RF = pca.fit_transform(X_train)\n",
    "    X_test_PCA_RF = pca.transform(X_test)\n",
    "    \n",
    "    # applying best bodel with n principal component\n",
    "    RF_PCA = RandomForestClassifier(random_state = 42, n_estimators = n_estimators[idx_3],\n",
    "                                    criterion = gcv_RF_parameters['criterion'], bootstrap = gcv_RF_parameters['bootstrap'])\n",
    "    RF_PCA.fit(X_train_PCA_RF, y_train)\n",
    "    \n",
    "    # predicting the class with n principal components\n",
    "    y_pred_PCA_RF = RF_PCA.predict(X_test_PCA_RF)\n",
    "    \n",
    "    # Test Accuracy of the best gridsearchcv model with n principal components\n",
    "    PCA_RF_Test_Accuracy = (accuracy_score(y_test, y_pred_PCA_RF))*100\n",
    "    PCA_RF_Test_Accuracy = round(PCA_RF_Test_Accuracy,4)\n",
    "    \n",
    "    # Test Error of the best gridsearchcv model with n principal components\n",
    "    PCA_RF_Test_Error = 100 - PCA_RF_Test_Accuracy\n",
    "    PCA_RF_Test_Error = round(PCA_RF_Test_Error,4)\n",
    "    RF_PCA_Error_Array.append(PCA_RF_Test_Error)\n",
    "    \n",
    "    # printing accuracy for n principal components    \n",
    "    print(f'Test Accuracy of the Model with {n} Principal Components is {PCA_RF_Test_Accuracy}%.')\n",
    "\n",
    "# gettint the index of the lowest error from the error array\n",
    "idx_4 = RF_PCA_Error_Array.index(min(RF_PCA_Error_Array))\n",
    "print (f'Lowest Error is {min(RF_PCA_Error_Array)} % for {n_components[idx_4]} Principal Components.')"
   ]
  },
  {
   "cell_type": "markdown",
   "metadata": {},
   "source": [
    "# Plotting Number of Components vr. Test Error for Random Forest."
   ]
  },
  {
   "cell_type": "code",
   "execution_count": 19,
   "metadata": {},
   "outputs": [
    {
     "data": {
      "image/png": "[encoded data removed]",
      "text/plain": [
       "<Figure size 432x288 with 1 Axes>"
      ]
     },
     "metadata": {
      "needs_background": "light"
     },
     "output_type": "display_data"
    }
   ],
   "source": [
    "plt.plot(n_components, RF_PCA_Error_Array, color =\"k\")\n",
    "\n",
    "plt.title('Number of Principal Components vr Test Error')\n",
    "plt.xlabel('Number of Principle Components')\n",
    "plt.ylabel('Test Error')\n",
    "plt.show()"
   ]
  },
  {
   "cell_type": "markdown",
   "metadata": {},
   "source": [
    "# Model with best Number of Principal Components and best Hyperparameters for Random Forest."
   ]
  },
  {
   "cell_type": "code",
   "execution_count": 20,
   "metadata": {},
   "outputs": [
    {
     "name": "stdout",
     "output_type": "stream",
     "text": [
      "Test accuracy of the Model with 32 Principal Components is 95.5132%.\n"
     ]
    }
   ],
   "source": [
    "# PCA with best numbers of principal components.\n",
    "best_pca = PCA(n_components = n_components[idx_4])\n",
    "\n",
    "# Transforming the features\n",
    "X_train_Best_PCA_RF = best_pca.fit_transform(X_train)\n",
    "X_test_Best_PCA_RF = best_pca.transform(X_test)\n",
    "\n",
    "# applying best bodel with best numbers of principal components\n",
    "RF_Best_PCA = RandomForestClassifier(random_state = 42, n_estimators = n_estimators[idx_3],\n",
    "                                     criterion = gcv_RF_parameters['criterion'], bootstrap = gcv_RF_parameters['bootstrap'])\n",
    "RF_Best_PCA.fit(X_train_Best_PCA_RF, y_train)\n",
    "\n",
    "# predicting the class with best numbers of principal components\n",
    "y_pred_RF_Best_PCA = RF_Best_PCA.predict(X_test_Best_PCA_RF)\n",
    "\n",
    "# Test Accuracy of the best gridsearchcv model with best numbers of principal components\n",
    "Best_PCA_Test_Accuracy = (accuracy_score(y_test, y_pred_RF_Best_PCA))*100\n",
    "Best_PCA_Test_Accuracy = round(Best_PCA_Test_Accuracy,4)\n",
    "\n",
    "# Test Error of the best gridsearchcv model with best numbers of principal components\n",
    "Best_PCA_Test_Error = 100 - Best_PCA_Test_Accuracy\n",
    "Best_PCA_Test_Error =round(Best_PCA_Test_Error,4)\n",
    "\n",
    "# printing accuracy for best numbers of principal components.\n",
    "print(f'Test accuracy of the Model with {n_components[idx_4]} Principal Components is {Best_PCA_Test_Accuracy}%.') "
   ]
  },
  {
   "cell_type": "markdown",
   "metadata": {},
   "source": [
    "# Classification Report"
   ]
  },
  {
   "cell_type": "code",
   "execution_count": 21,
   "metadata": {},
   "outputs": [
    {
     "name": "stdout",
     "output_type": "stream",
     "text": [
      "              precision    recall  f1-score   support\n",
      "\n",
      "           0       0.93      0.98      0.95     29990\n",
      "           1       1.00      0.95      0.97     29990\n",
      "           2       0.91      0.98      0.94     29990\n",
      "           3       0.97      1.00      0.98     29990\n",
      "           4       0.98      0.88      0.93     29990\n",
      "\n",
      "   micro avg       0.96      0.96      0.96    149950\n",
      "   macro avg       0.96      0.96      0.95    149950\n",
      "weighted avg       0.96      0.96      0.95    149950\n",
      "\n"
     ]
    }
   ],
   "source": [
    "print(classification_report(y_test, y_pred_RF_Best_PCA, labels=[0,1, 2, 3, 4]))"
   ]
  },
  {
   "cell_type": "markdown",
   "metadata": {},
   "source": [
    "# Presision, Recall, Accuracy, Confusion Matrix and ROC Curve for the above model."
   ]
  },
  {
   "cell_type": "code",
   "execution_count": 22,
   "metadata": {},
   "outputs": [
    {
     "name": "stdout",
     "output_type": "stream",
     "text": [
      "Precision : 95.71% / Recall : 95.50999999999999% / Accuracy : 95.5132%.\n"
     ]
    }
   ],
   "source": [
    "precision,recall,fscore,support = score(y_test, y_pred_RF_Best_PCA, average = 'weighted')\n",
    "print(f'Precision : {(round(precision,4))*100}% / Recall : {(round(recall,4))*100}% / Accuracy : {Best_PCA_Test_Accuracy}%.')"
   ]
  },
  {
   "cell_type": "code",
   "execution_count": 23,
   "metadata": {},
   "outputs": [
    {
     "data": {
      "text/plain": [
       "array([[29338,     0,   255,   397,     0],\n",
       "       [ 1350, 28383,     5,   103,   149],\n",
       "       [    0,    31, 29264,   378,   317],\n",
       "       [    0,     0,     0, 29990,     0],\n",
       "       [  985,     0,  2599,   159, 26247]], dtype=int64)"
      ]
     },
     "execution_count": 23,
     "metadata": {},
     "output_type": "execute_result"
    }
   ],
   "source": [
    "from sklearn.metrics import confusion_matrix\n",
    "confusion_matrix(y_test, y_pred_RF_Best_PCA)"
   ]
  },
  {
   "cell_type": "code",
   "execution_count": null,
   "metadata": {},
   "outputs": [],
   "source": []
  }
 ],
 "metadata": {
  "kernelspec": {
   "display_name": "Python 3",
   "language": "python",
   "name": "python3"
  },
  "language_info": {
   "codemirror_mode": {
    "name": "ipython",
    "version": 3
   },
   "file_extension": ".py",
   "mimetype": "text/x-python",
   "name": "python",
   "nbconvert_exporter": "python",
   "pygments_lexer": "ipython3",
   "version": "3.6.7"
  }
 },
 "nbformat": 4,
 "nbformat_minor": 2
}
